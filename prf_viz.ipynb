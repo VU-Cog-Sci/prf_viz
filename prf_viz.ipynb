{
 "cells": [
  {
   "cell_type": "markdown",
   "metadata": {
    "toc": true
   },
   "source": [
    "<h1>Table of Contents<span class=\"tocSkip\"></span></h1>\n",
    "<div class=\"toc\"><ul class=\"toc-item\"><li><span><a href=\"#Parameters\" data-toc-modified-id=\"Parameters-1\"><span class=\"toc-item-num\">1&nbsp;&nbsp;</span>Parameters</a></span></li><li><span><a href=\"#Load-data\" data-toc-modified-id=\"Load-data-2\"><span class=\"toc-item-num\">2&nbsp;&nbsp;</span>Load data</a></span></li><li><span><a href=\"#Create-pycortex-vertex-objects\" data-toc-modified-id=\"Create-pycortex-vertex-objects-3\"><span class=\"toc-item-num\">3&nbsp;&nbsp;</span>Create pycortex vertex objects</a></span></li><li><span><a href=\"#Create-figures-etc\" data-toc-modified-id=\"Create-figures-etc-4\"><span class=\"toc-item-num\">4&nbsp;&nbsp;</span>Create figures etc</a></span></li></ul></div>"
   ]
  },
  {
   "cell_type": "code",
   "execution_count": 1,
   "metadata": {
    "ExecuteTime": {
     "end_time": "2020-09-03T11:52:49.618523Z",
     "start_time": "2020-09-03T11:52:40.698291Z"
    }
   },
   "outputs": [],
   "source": [
    "import cortex as cx\n",
    "import nilearn.surface as surface\n",
    "import pandas as pd\n",
    "import numpy as np\n",
    "import os, shutil, shlex, subprocess\n",
    "import h5py\n",
    "import matplotlib.pyplot as plt\n",
    "from matplotlib.colors import hsv_to_rgb\n",
    "from matplotlib import cm\n",
    "\n",
    "# needs prfpy for prf spatial plot, and for model predictions at some point\n",
    "from prfpy.rf import gauss2D_iso_cart\n",
    "from prfpy.model import Iso2DGaussianModel\n",
    "\n",
    "%matplotlib notebook"
   ]
  },
  {
   "cell_type": "markdown",
   "metadata": {},
   "source": [
    "### Parameters"
   ]
  },
  {
   "cell_type": "code",
   "execution_count": 2,
   "metadata": {
    "ExecuteTime": {
     "end_time": "2020-09-03T11:52:49.634738Z",
     "start_time": "2020-09-03T11:52:49.622033Z"
    }
   },
   "outputs": [],
   "source": [
    "hemis = ['L', 'R']\n",
    "hemi_names = ['left', 'right']\n",
    "\n",
    "prf_par_names = ['x', 'y', 'size', 'beta', 'baseline', 'rsq']\n",
    "\n",
    "subject = 'hcp_999999'\n",
    "# data_dir = '/Users/knapen/projects/prf_viz/data'\n",
    "data_dir = os.path.join(os.environ['HOME'], 'projects/prf_viz/data')\n",
    "\n",
    "tc_gii_filename = 'tfMRI_{run_name}_7T_AP_Atlas_1.6mm_MSMAll_hp2000_clean.dtseries_sg_psc_{hemi}.gii'\n",
    "# prf_gii_filename = 'retmap_results_barmean_iterative.scalar.{hemi}.gii'\n",
    "prf_gii_filename = 'V12_retmap_results_polar_bar_iterative.scalar.{hemi}.gii'\n",
    "design_matrix_filename = '7T_{run_name}_small.hdf5'\n",
    "\n",
    "run_name = 'RETBAR1'\n",
    "flatmap_height = 2048\n",
    "full_figsize = (12, 8)\n",
    "\n",
    "vf_extent = [-8, 8]\n",
    "nr_vf_pix = 200\n",
    "prf_space_x, prf_space_y = np.meshgrid(np.linspace(vf_extent[0], vf_extent[1], nr_vf_pix, endpoint=True),\n",
    "                                       np.linspace(vf_extent[0], vf_extent[1], nr_vf_pix, endpoint=True))"
   ]
  },
  {
   "cell_type": "markdown",
   "metadata": {},
   "source": [
    "### Load data\n",
    "timecourses, prf parameters, and design matrix."
   ]
  },
  {
   "cell_type": "code",
   "execution_count": 3,
   "metadata": {
    "ExecuteTime": {
     "end_time": "2020-09-03T11:52:52.322871Z",
     "start_time": "2020-09-03T11:52:49.637608Z"
    }
   },
   "outputs": [],
   "source": [
    "tc_data = np.vstack([surface.load_surf_data(os.path.join(data_dir, tc_gii_filename.format(\n",
    "    run_name=run_name, hemi=hemi))) for hemi in hemis])\n",
    "\n",
    "prf_pars = np.vstack([surface.load_surf_data(os.path.join(\n",
    "    data_dir, prf_gii_filename.format(hemi=hemi))) for hemi in hemis])\n",
    "prf_pars_df = pd.DataFrame(prf_pars, columns=prf_par_names)\n",
    "\n",
    "with h5py.File(os.path.join(data_dir, design_matrix_filename.format(run_name=run_name)), 'r') as f:\n",
    "    design_matrix = np.array(f.get('stim'))\n",
    "    \n",
    "sos = design_matrix.sum((1,2)) != 0"
   ]
  },
  {
   "cell_type": "markdown",
   "metadata": {},
   "source": [
    "### Create pycortex vertex objects"
   ]
  },
  {
   "cell_type": "code",
   "execution_count": 38,
   "metadata": {
    "ExecuteTime": {
     "end_time": "2020-09-03T11:52:59.484912Z",
     "start_time": "2020-09-03T11:52:52.326431Z"
    }
   },
   "outputs": [
    {
     "output_type": "stream",
     "name": "stdout",
     "text": [
      "Stopping server\n",
      "Stopping server\n",
      "Stopping server\n"
     ]
    }
   ],
   "source": [
    "angs_n = np.fmod(0.5 + ((np.pi+np.angle(prf_pars_df['x'] +\n",
    "                          prf_pars_df['y']*1j)) % (2*np.pi))/(2*np.pi), 1.0)\n",
    "eccen = np.nan_to_num(np.sqrt(prf_pars_df['y']**2 + prf_pars_df['x']**2))\n",
    "rsq = np.array(prf_pars_df['rsq'])\n",
    "rsq_mask = rsq > 0.15\n",
    "prf_size = np.nan_to_num(np.array(prf_pars_df['size']))\n",
    "\n",
    "# angs_n[rsq_mask<0.15] = np.nan\n",
    "# prf_size[rsq_mask<0.15] = np.nan\n",
    "# eccen[rsq_mask<0.15] = np.nan\n",
    "# rsq_mask[rsq_mask<0.15] = np.nan\n",
    "\n",
    "# polar_v = cx.Vertex2D(dim1=angs_n, dim2=rsq_mask, subject=subject,\n",
    "#                       cmap='Retinotopy_HSV_alpha', vmin=0, vmax=1.0, vmin2=0.0, vmax2=1)\n",
    "# size_v = cx.Vertex2D(dim1=prf_size, dim2=rsq_mask, subject=subject,\n",
    "#                      cmap='hot_alpha', vmin=0, vmax=7.0, vmin2=0.0, vmax2=1)\n",
    "# eccen_v = cx.Vertex2D(dim1=eccen, dim2=rsq_mask, subject=subject,\n",
    "#                       cmap='Spectral_alpha', vmin=0, vmax=7.0, vmin2=0.0, vmax2=1)\n",
    "# x_v = cx.Vertex2D(dim1=np.nan_to_num(prf_pars_df['x']), dim2=rsq_mask, subject=subject,\n",
    "#                       cmap='seismic_alpha', vmin=-10, vmax=10.0, vmin2=0.15, vmax2=1)\n",
    "# y_v = cx.Vertex2D(dim1=np.nan_to_num(prf_pars_df['y']), dim2=rsq_mask, subject=subject,\n",
    "#                       cmap='seismic_alpha', vmin=-10, vmax=10.0, vmin2=0.15, vmax2=1)\n",
    "\n",
    "\n",
    "# polar_v1D = cx.Vertex(data=angs_n,  subject=subject,\n",
    "#                       cmap='hsv', vmin=0, vmax=1.0, alpha=rsq_mask)\n",
    "# size_v1D = cx.Vertex(data=prf_size, subject=subject,\n",
    "#                      cmap='hot', vmin=0, vmax=5.0, alpha=rsq_mask)\n",
    "# eccen_v1D = cx.Vertex(data=eccen, subject=subject,\n",
    "#                       cmap='BROYG', vmin=0, vmax=7.0, alpha=rsq_mask)\n",
    "\n",
    "###################################################################################################\n",
    "###################################################################################################\n",
    "#######\n",
    "# create pycortex vars\n",
    "#######\n",
    "###################################################################################################\n",
    "###################################################################################################\n",
    "\n",
    "mask, extents = cx.quickflat.utils.get_flatmask(subject, height=flatmap_height)\n",
    "vc = cx.quickflat.utils._make_vertex_cache(subject, height=flatmap_height)\n",
    "\n",
    "mask_index = np.zeros(mask.shape)\n",
    "mask_index[mask] = np.arange(mask.sum())"
   ]
  },
  {
   "cell_type": "code",
   "execution_count": 64,
   "metadata": {},
   "outputs": [
    {
     "output_type": "stream",
     "name": "stdout",
     "text": [
      "15.591753 7.1254964\n",
      "Started server on port 17782\n"
     ]
    },
    {
     "output_type": "execute_result",
     "data": {
      "text/plain": [
       "<JS: window.viewer>"
      ]
     },
     "metadata": {},
     "execution_count": 64
    }
   ],
   "source": [
    "sat = np.ones_like(angs_n)\n",
    "values = np.ones_like(angs_n)\n",
    "polar_hsv = hsv_to_rgb(np.array([angs_n, sat, values]).T)\n",
    "\n",
    "polar_rgb = cm.hsv(angs_n)[:,:3]\n",
    "eccen_rgb = cm.cubehelix_r(np.sqrt(eccen/6))[:,:3]\n",
    "size_rgb = cm.cubehelix(np.sqrt((prf_size-0.25)/5))[:,:3]\n",
    "\n",
    "eccen_rgb /= eccen_rgb.max(0)\n",
    "size_rgb /= size_rgb.max(0)\n",
    "\n",
    "print(eccen.max(), prf_size.max())\n",
    "\n",
    "curv_rgb = np.repeat(cx.surfs.get_surfinfo('hcp_999999').data[:,np.newaxis], 3, axis=1)\n",
    "\n",
    "polar_rgb[rsq_mask<0.15] = curv_rgb[rsq_mask<0.15]\n",
    "eccen_rgb[rsq_mask<0.15] = curv_rgb[rsq_mask<0.15]\n",
    "size_rgb[rsq_mask<0.15] = curv_rgb[rsq_mask<0.15]\n",
    "\n",
    "polar_rgb_v = cx.VertexRGB(polar_rgb[:,0], polar_rgb[:,1], polar_rgb[:,2], subject= 'hcp_999999')\n",
    "eccen_rgb_v = cx.VertexRGB(eccen_rgb[:,0], eccen_rgb[:,1], eccen_rgb[:,2], subject= 'hcp_999999')\n",
    "size_rgb_v = cx.VertexRGB(size_rgb[:,0], size_rgb[:,1], size_rgb[:,2], subject= 'hcp_999999')\n",
    "\n",
    "cx.webgl.make_static(os.path.join(data_dir, f'webgl_all'), data=ds_all) # , overlays_visible=('sulci'), labels_visible=None)\n",
    "cx.webshow(data=dict(zip(['polar_angle', 'eccentricity', 'prf_size'], [polar_rgb_v, eccen_rgb_v, size_rgb_v])))#, overlays_visible=('sulci'), labels_visible=None)"
   ]
  },
  {
   "cell_type": "code",
   "execution_count": 52,
   "metadata": {},
   "outputs": [
    {
     "output_type": "stream",
     "name": "stdout",
     "text": [
      "Started server on port 52086\n"
     ]
    },
    {
     "output_type": "execute_result",
     "data": {
      "text/plain": [
       "<JS: window.viewer>"
      ]
     },
     "metadata": {},
     "execution_count": 52
    }
   ],
   "source": [
    "ds_all = {}\n",
    "for name, vertex_object in zip(['polar_angle', 'eccentricity', 'prf_size'], [polar_rgb_v, eccen_rgb_v, size_rgb_v]):\n",
    "    ds = {name: vertex_object.raw}\n",
    "    try:\n",
    "        shutil.rmtree(os.path.join(data_dir, f'webgl*'))\n",
    "    except OSError:\n",
    "        pass\n",
    "    cx.webgl.make_static(os.path.join(data_dir, f'webgl_{name}'), ds)\n",
    "    ds_all.update(ds)\n",
    "cx.webgl.make_static(os.path.join(data_dir, f'webgl'), ds_all)\n",
    "cx.webshow(ds_all)\n"
   ]
  },
  {
   "cell_type": "code",
   "execution_count": 57,
   "metadata": {},
   "outputs": [
    {
     "output_type": "stream",
     "text": [
      "\u001b[0;31mSignature:\u001b[0m\n",
      "\u001b[0mcx\u001b[0m\u001b[0;34m.\u001b[0m\u001b[0mwebshow\u001b[0m\u001b[0;34m(\u001b[0m\u001b[0;34m\u001b[0m\n",
      "\u001b[0;34m\u001b[0m    \u001b[0mdata\u001b[0m\u001b[0;34m,\u001b[0m\u001b[0;34m\u001b[0m\n",
      "\u001b[0;34m\u001b[0m    \u001b[0mtypes\u001b[0m\u001b[0;34m=\u001b[0m\u001b[0;34m(\u001b[0m\u001b[0;34m'inflated'\u001b[0m\u001b[0;34m,\u001b[0m\u001b[0;34m)\u001b[0m\u001b[0;34m,\u001b[0m\u001b[0;34m\u001b[0m\n",
      "\u001b[0;34m\u001b[0m    \u001b[0mrecache\u001b[0m\u001b[0;34m=\u001b[0m\u001b[0;32mFalse\u001b[0m\u001b[0;34m,\u001b[0m\u001b[0;34m\u001b[0m\n",
      "\u001b[0;34m\u001b[0m    \u001b[0mcmap\u001b[0m\u001b[0;34m=\u001b[0m\u001b[0;34m'RdBu_r'\u001b[0m\u001b[0;34m,\u001b[0m\u001b[0;34m\u001b[0m\n",
      "\u001b[0;34m\u001b[0m    \u001b[0mlayout\u001b[0m\u001b[0;34m=\u001b[0m\u001b[0;32mNone\u001b[0m\u001b[0;34m,\u001b[0m\u001b[0;34m\u001b[0m\n",
      "\u001b[0;34m\u001b[0m    \u001b[0mautoclose\u001b[0m\u001b[0;34m=\u001b[0m\u001b[0;32mNone\u001b[0m\u001b[0;34m,\u001b[0m\u001b[0;34m\u001b[0m\n",
      "\u001b[0;34m\u001b[0m    \u001b[0mopen_browser\u001b[0m\u001b[0;34m=\u001b[0m\u001b[0;32mNone\u001b[0m\u001b[0;34m,\u001b[0m\u001b[0;34m\u001b[0m\n",
      "\u001b[0;34m\u001b[0m    \u001b[0mport\u001b[0m\u001b[0;34m=\u001b[0m\u001b[0;32mNone\u001b[0m\u001b[0;34m,\u001b[0m\u001b[0;34m\u001b[0m\n",
      "\u001b[0;34m\u001b[0m    \u001b[0mpickerfun\u001b[0m\u001b[0;34m=\u001b[0m\u001b[0;32mNone\u001b[0m\u001b[0;34m,\u001b[0m\u001b[0;34m\u001b[0m\n",
      "\u001b[0;34m\u001b[0m    \u001b[0mtemplate\u001b[0m\u001b[0;34m=\u001b[0m\u001b[0;34m'mixer.html'\u001b[0m\u001b[0;34m,\u001b[0m\u001b[0;34m\u001b[0m\n",
      "\u001b[0;34m\u001b[0m    \u001b[0moverlays_available\u001b[0m\u001b[0;34m=\u001b[0m\u001b[0;32mNone\u001b[0m\u001b[0;34m,\u001b[0m\u001b[0;34m\u001b[0m\n",
      "\u001b[0;34m\u001b[0m    \u001b[0moverlays_visible\u001b[0m\u001b[0;34m=\u001b[0m\u001b[0;34m(\u001b[0m\u001b[0;34m'rois'\u001b[0m\u001b[0;34m,\u001b[0m \u001b[0;34m'sulci'\u001b[0m\u001b[0;34m)\u001b[0m\u001b[0;34m,\u001b[0m\u001b[0;34m\u001b[0m\n",
      "\u001b[0;34m\u001b[0m    \u001b[0mlabels_visible\u001b[0m\u001b[0;34m=\u001b[0m\u001b[0;34m(\u001b[0m\u001b[0;34m'rois'\u001b[0m\u001b[0;34m,\u001b[0m\u001b[0;34m)\u001b[0m\u001b[0;34m,\u001b[0m\u001b[0;34m\u001b[0m\n",
      "\u001b[0;34m\u001b[0m    \u001b[0moverlay_file\u001b[0m\u001b[0;34m=\u001b[0m\u001b[0;32mNone\u001b[0m\u001b[0;34m,\u001b[0m\u001b[0;34m\u001b[0m\n",
      "\u001b[0;34m\u001b[0m    \u001b[0mtitle\u001b[0m\u001b[0;34m=\u001b[0m\u001b[0;34m'Brain'\u001b[0m\u001b[0;34m,\u001b[0m\u001b[0;34m\u001b[0m\n",
      "\u001b[0;34m\u001b[0m    \u001b[0;34m**\u001b[0m\u001b[0mkwargs\u001b[0m\u001b[0;34m,\u001b[0m\u001b[0;34m\u001b[0m\n",
      "\u001b[0;34m\u001b[0m\u001b[0;34m)\u001b[0m\u001b[0;34m\u001b[0m\u001b[0;34m\u001b[0m\u001b[0m\n",
      "\u001b[0;31mDocstring:\u001b[0m\n",
      "Creates a webGL MRI viewer that is dynamically served by a tornado server\n",
      "running inside the current python process.\n",
      "\n",
      "Parameters\n",
      "----------\n",
      "data : Dataset object or implicit Dataset\n",
      "    Dataset object containing all the data you wish to plot. Can be any type\n",
      "    of implicit dataset, such as a single Volume, Vertex, etc. object or a\n",
      "    dictionary of Volume, Vertex. etc. objects.\n",
      "autoclose : bool, optional\n",
      "    If True, the tornado server will automatically be destroyed when the last\n",
      "    web client has disconnected. If False, the server will stay open,\n",
      "    allowing more connections. Default True\n",
      "open_browser : bool, optional\n",
      "    If True, uses the webbrowser library to open the viewer in the default\n",
      "    local browser. Default True\n",
      "port : int or None, optional\n",
      "    The port that will be used by the server. If None, a random port will be\n",
      "    selected from the range 1024-65536. Default None\n",
      "pickerfun : funcion or None, optional\n",
      "    Should be a function that takes two arguments, a voxel index and a vertex\n",
      "    index. Is called whenever a location on the surface is clicked in the\n",
      "    viewer. This can be used to print information about individual voxels or\n",
      "    vertices, plot receptive fields, or many other uses. Default None\n",
      "recache : bool, optional\n",
      "    Force recreation of CTM and SVG files for surfaces. Default False\n",
      "template : string, optional\n",
      "    Name of template HTML file. Default 'mixer.html'\n",
      "overlays_visible : tuple, optional\n",
      "    The listed overlay layers will be set visible by default. Layers not listed\n",
      "    here will be hidden by default (but can be enabled in the viewer GUI).\n",
      "    Default ('rois', 'sulci')\n",
      "labels_visible : tuple, optional\n",
      "    Labels for the listed layers will be set visible by default. Labels for\n",
      "    layers not listed here will be hidden by default (but can be enabled in\n",
      "    the viewer GUI). Default ('rois', )\n",
      "**kwargs\n",
      "    All additional keyword arguments are passed to the template renderer.\n",
      "\n",
      "Other parameters\n",
      "----------------\n",
      "types : tuple, optional\n",
      "    Types of surfaces to include in addition to the original (fiducial, pial,\n",
      "    and white matter) and flat surfaces. Default ('inflated', )\n",
      "cmap : string, optional\n",
      "    Name of default colormap. Default 'RdBu_r'\n",
      "    TODO: DOES THIS DO ANYTHING ANYMORE?\n",
      "overlay_file : str or None, optional\n",
      "    Custom overlays.svg file to use instead of the default one for this\n",
      "    subject (if not None). Default None.\n",
      "title : str, optional\n",
      "    The title that is displayed on the viewer website when it is loaded in\n",
      "    a browser.\n",
      "layout : (int, int), optional\n",
      "    The layout of the viewer subwindows for showing multiple subjects.\n",
      "    Default None, which selects the layout based on the number of subjects.\n",
      "\u001b[0;31mFile:\u001b[0m      ~/projects/pycortex/cortex/webgl/view.py\n",
      "\u001b[0;31mType:\u001b[0m      DocLoader\n"
     ],
     "name": "stdout"
    }
   ],
   "source": [
    "cx.webshow?"
   ]
  },
  {
   "cell_type": "markdown",
   "metadata": {},
   "source": [
    "### Create figures etc"
   ]
  },
  {
   "cell_type": "code",
   "execution_count": 14,
   "metadata": {
    "ExecuteTime": {
     "end_time": "2020-09-03T11:53:35.356772Z",
     "start_time": "2020-09-03T11:52:59.486904Z"
    }
   },
   "outputs": [
    {
     "output_type": "display_data",
     "data": {
      "text/plain": "<IPython.core.display.Javascript object>",
      "application/javascript": "/* Put everything inside the global mpl namespace */\nwindow.mpl = {};\n\n\nmpl.get_websocket_type = function() {\n    if (typeof(WebSocket) !== 'undefined') {\n        return WebSocket;\n    } else if (typeof(MozWebSocket) !== 'undefined') {\n        return MozWebSocket;\n    } else {\n        alert('Your browser does not have WebSocket support. ' +\n              'Please try Chrome, Safari or Firefox ≥ 6. ' +\n              'Firefox 4 and 5 are also supported but you ' +\n              'have to enable WebSockets in about:config.');\n    };\n}\n\nmpl.figure = function(figure_id, websocket, ondownload, parent_element) {\n    this.id = figure_id;\n\n    this.ws = websocket;\n\n    this.supports_binary = (this.ws.binaryType != undefined);\n\n    if (!this.supports_binary) {\n        var warnings = document.getElementById(\"mpl-warnings\");\n        if (warnings) {\n            warnings.style.display = 'block';\n            warnings.textContent = (\n                \"This browser does not support binary websocket messages. \" +\n                    \"Performance may be slow.\");\n        }\n    }\n\n    this.imageObj = new Image();\n\n    this.context = undefined;\n    this.message = undefined;\n    this.canvas = undefined;\n    this.rubberband_canvas = undefined;\n    this.rubberband_context = undefined;\n    this.format_dropdown = undefined;\n\n    this.image_mode = 'full';\n\n    this.root = $('<div/>');\n    this._root_extra_style(this.root)\n    this.root.attr('style', 'display: inline-block');\n\n    $(parent_element).append(this.root);\n\n    this._init_header(this);\n    this._init_canvas(this);\n    this._init_toolbar(this);\n\n    var fig = this;\n\n    this.waiting = false;\n\n    this.ws.onopen =  function () {\n            fig.send_message(\"supports_binary\", {value: fig.supports_binary});\n            fig.send_message(\"send_image_mode\", {});\n            if (mpl.ratio != 1) {\n                fig.send_message(\"set_dpi_ratio\", {'dpi_ratio': mpl.ratio});\n            }\n            fig.send_message(\"refresh\", {});\n        }\n\n    this.imageObj.onload = function() {\n            if (fig.image_mode == 'full') {\n                // Full images could contain transparency (where diff images\n                // almost always do), so we need to clear the canvas so that\n                // there is no ghosting.\n                fig.context.clearRect(0, 0, fig.canvas.width, fig.canvas.height);\n            }\n            fig.context.drawImage(fig.imageObj, 0, 0);\n        };\n\n    this.imageObj.onunload = function() {\n        fig.ws.close();\n    }\n\n    this.ws.onmessage = this._make_on_message_function(this);\n\n    this.ondownload = ondownload;\n}\n\nmpl.figure.prototype._init_header = function() {\n    var titlebar = $(\n        '<div class=\"ui-dialog-titlebar ui-widget-header ui-corner-all ' +\n        'ui-helper-clearfix\"/>');\n    var titletext = $(\n        '<div class=\"ui-dialog-title\" style=\"width: 100%; ' +\n        'text-align: center; padding: 3px;\"/>');\n    titlebar.append(titletext)\n    this.root.append(titlebar);\n    this.header = titletext[0];\n}\n\n\n\nmpl.figure.prototype._canvas_extra_style = function(canvas_div) {\n\n}\n\n\nmpl.figure.prototype._root_extra_style = function(canvas_div) {\n\n}\n\nmpl.figure.prototype._init_canvas = function() {\n    var fig = this;\n\n    var canvas_div = $('<div/>');\n\n    canvas_div.attr('style', 'position: relative; clear: both; outline: 0');\n\n    function canvas_keyboard_event(event) {\n        return fig.key_event(event, event['data']);\n    }\n\n    canvas_div.keydown('key_press', canvas_keyboard_event);\n    canvas_div.keyup('key_release', canvas_keyboard_event);\n    this.canvas_div = canvas_div\n    this._canvas_extra_style(canvas_div)\n    this.root.append(canvas_div);\n\n    var canvas = $('<canvas/>');\n    canvas.addClass('mpl-canvas');\n    canvas.attr('style', \"left: 0; top: 0; z-index: 0; outline: 0\")\n\n    this.canvas = canvas[0];\n    this.context = canvas[0].getContext(\"2d\");\n\n    var backingStore = this.context.backingStorePixelRatio ||\n\tthis.context.webkitBackingStorePixelRatio ||\n\tthis.context.mozBackingStorePixelRatio ||\n\tthis.context.msBackingStorePixelRatio ||\n\tthis.context.oBackingStorePixelRatio ||\n\tthis.context.backingStorePixelRatio || 1;\n\n    mpl.ratio = (window.devicePixelRatio || 1) / backingStore;\n\n    var rubberband = $('<canvas/>');\n    rubberband.attr('style', \"position: absolute; left: 0; top: 0; z-index: 1;\")\n\n    var pass_mouse_events = true;\n\n    canvas_div.resizable({\n        start: function(event, ui) {\n            pass_mouse_events = false;\n        },\n        resize: function(event, ui) {\n            fig.request_resize(ui.size.width, ui.size.height);\n        },\n        stop: function(event, ui) {\n            pass_mouse_events = true;\n            fig.request_resize(ui.size.width, ui.size.height);\n        },\n    });\n\n    function mouse_event_fn(event) {\n        if (pass_mouse_events)\n            return fig.mouse_event(event, event['data']);\n    }\n\n    rubberband.mousedown('button_press', mouse_event_fn);\n    rubberband.mouseup('button_release', mouse_event_fn);\n    // Throttle sequential mouse events to 1 every 20ms.\n    rubberband.mousemove('motion_notify', mouse_event_fn);\n\n    rubberband.mouseenter('figure_enter', mouse_event_fn);\n    rubberband.mouseleave('figure_leave', mouse_event_fn);\n\n    canvas_div.on(\"wheel\", function (event) {\n        event = event.originalEvent;\n        event['data'] = 'scroll'\n        if (event.deltaY < 0) {\n            event.step = 1;\n        } else {\n            event.step = -1;\n        }\n        mouse_event_fn(event);\n    });\n\n    canvas_div.append(canvas);\n    canvas_div.append(rubberband);\n\n    this.rubberband = rubberband;\n    this.rubberband_canvas = rubberband[0];\n    this.rubberband_context = rubberband[0].getContext(\"2d\");\n    this.rubberband_context.strokeStyle = \"#000000\";\n\n    this._resize_canvas = function(width, height) {\n        // Keep the size of the canvas, canvas container, and rubber band\n        // canvas in synch.\n        canvas_div.css('width', width)\n        canvas_div.css('height', height)\n\n        canvas.attr('width', width * mpl.ratio);\n        canvas.attr('height', height * mpl.ratio);\n        canvas.attr('style', 'width: ' + width + 'px; height: ' + height + 'px;');\n\n        rubberband.attr('width', width);\n        rubberband.attr('height', height);\n    }\n\n    // Set the figure to an initial 600x600px, this will subsequently be updated\n    // upon first draw.\n    this._resize_canvas(600, 600);\n\n    // Disable right mouse context menu.\n    $(this.rubberband_canvas).bind(\"contextmenu\",function(e){\n        return false;\n    });\n\n    function set_focus () {\n        canvas.focus();\n        canvas_div.focus();\n    }\n\n    window.setTimeout(set_focus, 100);\n}\n\nmpl.figure.prototype._init_toolbar = function() {\n    var fig = this;\n\n    var nav_element = $('<div/>');\n    nav_element.attr('style', 'width: 100%');\n    this.root.append(nav_element);\n\n    // Define a callback function for later on.\n    function toolbar_event(event) {\n        return fig.toolbar_button_onclick(event['data']);\n    }\n    function toolbar_mouse_event(event) {\n        return fig.toolbar_button_onmouseover(event['data']);\n    }\n\n    for(var toolbar_ind in mpl.toolbar_items) {\n        var name = mpl.toolbar_items[toolbar_ind][0];\n        var tooltip = mpl.toolbar_items[toolbar_ind][1];\n        var image = mpl.toolbar_items[toolbar_ind][2];\n        var method_name = mpl.toolbar_items[toolbar_ind][3];\n\n        if (!name) {\n            // put a spacer in here.\n            continue;\n        }\n        var button = $('<button/>');\n        button.addClass('ui-button ui-widget ui-state-default ui-corner-all ' +\n                        'ui-button-icon-only');\n        button.attr('role', 'button');\n        button.attr('aria-disabled', 'false');\n        button.click(method_name, toolbar_event);\n        button.mouseover(tooltip, toolbar_mouse_event);\n\n        var icon_img = $('<span/>');\n        icon_img.addClass('ui-button-icon-primary ui-icon');\n        icon_img.addClass(image);\n        icon_img.addClass('ui-corner-all');\n\n        var tooltip_span = $('<span/>');\n        tooltip_span.addClass('ui-button-text');\n        tooltip_span.html(tooltip);\n\n        button.append(icon_img);\n        button.append(tooltip_span);\n\n        nav_element.append(button);\n    }\n\n    var fmt_picker_span = $('<span/>');\n\n    var fmt_picker = $('<select/>');\n    fmt_picker.addClass('mpl-toolbar-option ui-widget ui-widget-content');\n    fmt_picker_span.append(fmt_picker);\n    nav_element.append(fmt_picker_span);\n    this.format_dropdown = fmt_picker[0];\n\n    for (var ind in mpl.extensions) {\n        var fmt = mpl.extensions[ind];\n        var option = $(\n            '<option/>', {selected: fmt === mpl.default_extension}).html(fmt);\n        fmt_picker.append(option);\n    }\n\n    // Add hover states to the ui-buttons\n    $( \".ui-button\" ).hover(\n        function() { $(this).addClass(\"ui-state-hover\");},\n        function() { $(this).removeClass(\"ui-state-hover\");}\n    );\n\n    var status_bar = $('<span class=\"mpl-message\"/>');\n    nav_element.append(status_bar);\n    this.message = status_bar[0];\n}\n\nmpl.figure.prototype.request_resize = function(x_pixels, y_pixels) {\n    // Request matplotlib to resize the figure. Matplotlib will then trigger a resize in the client,\n    // which will in turn request a refresh of the image.\n    this.send_message('resize', {'width': x_pixels, 'height': y_pixels});\n}\n\nmpl.figure.prototype.send_message = function(type, properties) {\n    properties['type'] = type;\n    properties['figure_id'] = this.id;\n    this.ws.send(JSON.stringify(properties));\n}\n\nmpl.figure.prototype.send_draw_message = function() {\n    if (!this.waiting) {\n        this.waiting = true;\n        this.ws.send(JSON.stringify({type: \"draw\", figure_id: this.id}));\n    }\n}\n\n\nmpl.figure.prototype.handle_save = function(fig, msg) {\n    var format_dropdown = fig.format_dropdown;\n    var format = format_dropdown.options[format_dropdown.selectedIndex].value;\n    fig.ondownload(fig, format);\n}\n\n\nmpl.figure.prototype.handle_resize = function(fig, msg) {\n    var size = msg['size'];\n    if (size[0] != fig.canvas.width || size[1] != fig.canvas.height) {\n        fig._resize_canvas(size[0], size[1]);\n        fig.send_message(\"refresh\", {});\n    };\n}\n\nmpl.figure.prototype.handle_rubberband = function(fig, msg) {\n    var x0 = msg['x0'] / mpl.ratio;\n    var y0 = (fig.canvas.height - msg['y0']) / mpl.ratio;\n    var x1 = msg['x1'] / mpl.ratio;\n    var y1 = (fig.canvas.height - msg['y1']) / mpl.ratio;\n    x0 = Math.floor(x0) + 0.5;\n    y0 = Math.floor(y0) + 0.5;\n    x1 = Math.floor(x1) + 0.5;\n    y1 = Math.floor(y1) + 0.5;\n    var min_x = Math.min(x0, x1);\n    var min_y = Math.min(y0, y1);\n    var width = Math.abs(x1 - x0);\n    var height = Math.abs(y1 - y0);\n\n    fig.rubberband_context.clearRect(\n        0, 0, fig.canvas.width / mpl.ratio, fig.canvas.height / mpl.ratio);\n\n    fig.rubberband_context.strokeRect(min_x, min_y, width, height);\n}\n\nmpl.figure.prototype.handle_figure_label = function(fig, msg) {\n    // Updates the figure title.\n    fig.header.textContent = msg['label'];\n}\n\nmpl.figure.prototype.handle_cursor = function(fig, msg) {\n    var cursor = msg['cursor'];\n    switch(cursor)\n    {\n    case 0:\n        cursor = 'pointer';\n        break;\n    case 1:\n        cursor = 'default';\n        break;\n    case 2:\n        cursor = 'crosshair';\n        break;\n    case 3:\n        cursor = 'move';\n        break;\n    }\n    fig.rubberband_canvas.style.cursor = cursor;\n}\n\nmpl.figure.prototype.handle_message = function(fig, msg) {\n    fig.message.textContent = msg['message'];\n}\n\nmpl.figure.prototype.handle_draw = function(fig, msg) {\n    // Request the server to send over a new figure.\n    fig.send_draw_message();\n}\n\nmpl.figure.prototype.handle_image_mode = function(fig, msg) {\n    fig.image_mode = msg['mode'];\n}\n\nmpl.figure.prototype.updated_canvas_event = function() {\n    // Called whenever the canvas gets updated.\n    this.send_message(\"ack\", {});\n}\n\n// A function to construct a web socket function for onmessage handling.\n// Called in the figure constructor.\nmpl.figure.prototype._make_on_message_function = function(fig) {\n    return function socket_on_message(evt) {\n        if (evt.data instanceof Blob) {\n            /* FIXME: We get \"Resource interpreted as Image but\n             * transferred with MIME type text/plain:\" errors on\n             * Chrome.  But how to set the MIME type?  It doesn't seem\n             * to be part of the websocket stream */\n            evt.data.type = \"image/png\";\n\n            /* Free the memory for the previous frames */\n            if (fig.imageObj.src) {\n                (window.URL || window.webkitURL).revokeObjectURL(\n                    fig.imageObj.src);\n            }\n\n            fig.imageObj.src = (window.URL || window.webkitURL).createObjectURL(\n                evt.data);\n            fig.updated_canvas_event();\n            fig.waiting = false;\n            return;\n        }\n        else if (typeof evt.data === 'string' && evt.data.slice(0, 21) == \"data:image/png;base64\") {\n            fig.imageObj.src = evt.data;\n            fig.updated_canvas_event();\n            fig.waiting = false;\n            return;\n        }\n\n        var msg = JSON.parse(evt.data);\n        var msg_type = msg['type'];\n\n        // Call the  \"handle_{type}\" callback, which takes\n        // the figure and JSON message as its only arguments.\n        try {\n            var callback = fig[\"handle_\" + msg_type];\n        } catch (e) {\n            console.log(\"No handler for the '\" + msg_type + \"' message type: \", msg);\n            return;\n        }\n\n        if (callback) {\n            try {\n                // console.log(\"Handling '\" + msg_type + \"' message: \", msg);\n                callback(fig, msg);\n            } catch (e) {\n                console.log(\"Exception inside the 'handler_\" + msg_type + \"' callback:\", e, e.stack, msg);\n            }\n        }\n    };\n}\n\n// from http://stackoverflow.com/questions/1114465/getting-mouse-location-in-canvas\nmpl.findpos = function(e) {\n    //this section is from http://www.quirksmode.org/js/events_properties.html\n    var targ;\n    if (!e)\n        e = window.event;\n    if (e.target)\n        targ = e.target;\n    else if (e.srcElement)\n        targ = e.srcElement;\n    if (targ.nodeType == 3) // defeat Safari bug\n        targ = targ.parentNode;\n\n    // jQuery normalizes the pageX and pageY\n    // pageX,Y are the mouse positions relative to the document\n    // offset() returns the position of the element relative to the document\n    var x = e.pageX - $(targ).offset().left;\n    var y = e.pageY - $(targ).offset().top;\n\n    return {\"x\": x, \"y\": y};\n};\n\n/*\n * return a copy of an object with only non-object keys\n * we need this to avoid circular references\n * http://stackoverflow.com/a/24161582/3208463\n */\nfunction simpleKeys (original) {\n  return Object.keys(original).reduce(function (obj, key) {\n    if (typeof original[key] !== 'object')\n        obj[key] = original[key]\n    return obj;\n  }, {});\n}\n\nmpl.figure.prototype.mouse_event = function(event, name) {\n    var canvas_pos = mpl.findpos(event)\n\n    if (name === 'button_press')\n    {\n        this.canvas.focus();\n        this.canvas_div.focus();\n    }\n\n    var x = canvas_pos.x * mpl.ratio;\n    var y = canvas_pos.y * mpl.ratio;\n\n    this.send_message(name, {x: x, y: y, button: event.button,\n                             step: event.step,\n                             guiEvent: simpleKeys(event)});\n\n    /* This prevents the web browser from automatically changing to\n     * the text insertion cursor when the button is pressed.  We want\n     * to control all of the cursor setting manually through the\n     * 'cursor' event from matplotlib */\n    event.preventDefault();\n    return false;\n}\n\nmpl.figure.prototype._key_event_extra = function(event, name) {\n    // Handle any extra behaviour associated with a key event\n}\n\nmpl.figure.prototype.key_event = function(event, name) {\n\n    // Prevent repeat events\n    if (name == 'key_press')\n    {\n        if (event.which === this._key)\n            return;\n        else\n            this._key = event.which;\n    }\n    if (name == 'key_release')\n        this._key = null;\n\n    var value = '';\n    if (event.ctrlKey && event.which != 17)\n        value += \"ctrl+\";\n    if (event.altKey && event.which != 18)\n        value += \"alt+\";\n    if (event.shiftKey && event.which != 16)\n        value += \"shift+\";\n\n    value += 'k';\n    value += event.which.toString();\n\n    this._key_event_extra(event, name);\n\n    this.send_message(name, {key: value,\n                             guiEvent: simpleKeys(event)});\n    return false;\n}\n\nmpl.figure.prototype.toolbar_button_onclick = function(name) {\n    if (name == 'download') {\n        this.handle_save(this, null);\n    } else {\n        this.send_message(\"toolbar_button\", {name: name});\n    }\n};\n\nmpl.figure.prototype.toolbar_button_onmouseover = function(tooltip) {\n    this.message.textContent = tooltip;\n};\nmpl.toolbar_items = [[\"Home\", \"Reset original view\", \"fa fa-home icon-home\", \"home\"], [\"Back\", \"Back to previous view\", \"fa fa-arrow-left icon-arrow-left\", \"back\"], [\"Forward\", \"Forward to next view\", \"fa fa-arrow-right icon-arrow-right\", \"forward\"], [\"\", \"\", \"\", \"\"], [\"Pan\", \"Pan axes with left mouse, zoom with right\", \"fa fa-arrows icon-move\", \"pan\"], [\"Zoom\", \"Zoom to rectangle\", \"fa fa-square-o icon-check-empty\", \"zoom\"], [\"\", \"\", \"\", \"\"], [\"Download\", \"Download plot\", \"fa fa-floppy-o icon-save\", \"download\"]];\n\nmpl.extensions = [\"eps\", \"jpeg\", \"pdf\", \"png\", \"ps\", \"raw\", \"svg\", \"tif\"];\n\nmpl.default_extension = \"png\";var comm_websocket_adapter = function(comm) {\n    // Create a \"websocket\"-like object which calls the given IPython comm\n    // object with the appropriate methods. Currently this is a non binary\n    // socket, so there is still some room for performance tuning.\n    var ws = {};\n\n    ws.close = function() {\n        comm.close()\n    };\n    ws.send = function(m) {\n        //console.log('sending', m);\n        comm.send(m);\n    };\n    // Register the callback with on_msg.\n    comm.on_msg(function(msg) {\n        //console.log('receiving', msg['content']['data'], msg);\n        // Pass the mpl event to the overridden (by mpl) onmessage function.\n        ws.onmessage(msg['content']['data'])\n    });\n    return ws;\n}\n\nmpl.mpl_figure_comm = function(comm, msg) {\n    // This is the function which gets called when the mpl process\n    // starts-up an IPython Comm through the \"matplotlib\" channel.\n\n    var id = msg.content.data.id;\n    // Get hold of the div created by the display call when the Comm\n    // socket was opened in Python.\n    var element = $(\"#\" + id);\n    var ws_proxy = comm_websocket_adapter(comm)\n\n    function ondownload(figure, format) {\n        window.open(figure.imageObj.src);\n    }\n\n    var fig = new mpl.figure(id, ws_proxy,\n                           ondownload,\n                           element.get(0));\n\n    // Call onopen now - mpl needs it, as it is assuming we've passed it a real\n    // web socket which is closed, not our websocket->open comm proxy.\n    ws_proxy.onopen();\n\n    fig.parent_element = element.get(0);\n    fig.cell_info = mpl.find_output_cell(\"<div id='\" + id + \"'></div>\");\n    if (!fig.cell_info) {\n        console.error(\"Failed to find cell for figure\", id, fig);\n        return;\n    }\n\n    var output_index = fig.cell_info[2]\n    var cell = fig.cell_info[0];\n\n};\n\nmpl.figure.prototype.handle_close = function(fig, msg) {\n    var width = fig.canvas.width/mpl.ratio\n    fig.root.unbind('remove')\n\n    // Update the output cell to use the data from the current canvas.\n    fig.push_to_output();\n    var dataURL = fig.canvas.toDataURL();\n    // Re-enable the keyboard manager in IPython - without this line, in FF,\n    // the notebook keyboard shortcuts fail.\n    IPython.keyboard_manager.enable()\n    $(fig.parent_element).html('<img src=\"' + dataURL + '\" width=\"' + width + '\">');\n    fig.close_ws(fig, msg);\n}\n\nmpl.figure.prototype.close_ws = function(fig, msg){\n    fig.send_message('closing', msg);\n    // fig.ws.close()\n}\n\nmpl.figure.prototype.push_to_output = function(remove_interactive) {\n    // Turn the data on the canvas into data in the output cell.\n    var width = this.canvas.width/mpl.ratio\n    var dataURL = this.canvas.toDataURL();\n    this.cell_info[1]['text/html'] = '<img src=\"' + dataURL + '\" width=\"' + width + '\">';\n}\n\nmpl.figure.prototype.updated_canvas_event = function() {\n    // Tell IPython that the notebook contents must change.\n    IPython.notebook.set_dirty(true);\n    this.send_message(\"ack\", {});\n    var fig = this;\n    // Wait a second, then push the new image to the DOM so\n    // that it is saved nicely (might be nice to debounce this).\n    setTimeout(function () { fig.push_to_output() }, 1000);\n}\n\nmpl.figure.prototype._init_toolbar = function() {\n    var fig = this;\n\n    var nav_element = $('<div/>');\n    nav_element.attr('style', 'width: 100%');\n    this.root.append(nav_element);\n\n    // Define a callback function for later on.\n    function toolbar_event(event) {\n        return fig.toolbar_button_onclick(event['data']);\n    }\n    function toolbar_mouse_event(event) {\n        return fig.toolbar_button_onmouseover(event['data']);\n    }\n\n    for(var toolbar_ind in mpl.toolbar_items){\n        var name = mpl.toolbar_items[toolbar_ind][0];\n        var tooltip = mpl.toolbar_items[toolbar_ind][1];\n        var image = mpl.toolbar_items[toolbar_ind][2];\n        var method_name = mpl.toolbar_items[toolbar_ind][3];\n\n        if (!name) { continue; };\n\n        var button = $('<button class=\"btn btn-default\" href=\"#\" title=\"' + name + '\"><i class=\"fa ' + image + ' fa-lg\"></i></button>');\n        button.click(method_name, toolbar_event);\n        button.mouseover(tooltip, toolbar_mouse_event);\n        nav_element.append(button);\n    }\n\n    // Add the status bar.\n    var status_bar = $('<span class=\"mpl-message\" style=\"text-align:right; float: right;\"/>');\n    nav_element.append(status_bar);\n    this.message = status_bar[0];\n\n    // Add the close button to the window.\n    var buttongrp = $('<div class=\"btn-group inline pull-right\"></div>');\n    var button = $('<button class=\"btn btn-mini btn-primary\" href=\"#\" title=\"Stop Interaction\"><i class=\"fa fa-power-off icon-remove icon-large\"></i></button>');\n    button.click(function (evt) { fig.handle_close(fig, {}); } );\n    button.mouseover('Stop Interaction', toolbar_mouse_event);\n    buttongrp.append(button);\n    var titlebar = this.root.find($('.ui-dialog-titlebar'));\n    titlebar.prepend(buttongrp);\n}\n\nmpl.figure.prototype._root_extra_style = function(el){\n    var fig = this\n    el.on(\"remove\", function(){\n\tfig.close_ws(fig, {});\n    });\n}\n\nmpl.figure.prototype._canvas_extra_style = function(el){\n    // this is important to make the div 'focusable\n    el.attr('tabindex', 0)\n    // reach out to IPython and tell the keyboard manager to turn it's self\n    // off when our div gets focus\n\n    // location in version 3\n    if (IPython.notebook.keyboard_manager) {\n        IPython.notebook.keyboard_manager.register_events(el);\n    }\n    else {\n        // location in version 2\n        IPython.keyboard_manager.register_events(el);\n    }\n\n}\n\nmpl.figure.prototype._key_event_extra = function(event, name) {\n    var manager = IPython.notebook.keyboard_manager;\n    if (!manager)\n        manager = IPython.keyboard_manager;\n\n    // Check for shift+enter\n    if (event.shiftKey && event.which == 13) {\n        this.canvas_div.blur();\n        // select the cell after this one\n        var index = IPython.notebook.find_cell_index(this.cell_info[0]);\n        IPython.notebook.select(index + 1);\n    }\n}\n\nmpl.figure.prototype.handle_save = function(fig, msg) {\n    fig.ondownload(fig, null);\n}\n\n\nmpl.find_output_cell = function(html_output) {\n    // Return the cell and output element which can be found *uniquely* in the notebook.\n    // Note - this is a bit hacky, but it is done because the \"notebook_saving.Notebook\"\n    // IPython event is triggered only after the cells have been serialised, which for\n    // our purposes (turning an active figure into a static one), is too late.\n    var cells = IPython.notebook.get_cells();\n    var ncells = cells.length;\n    for (var i=0; i<ncells; i++) {\n        var cell = cells[i];\n        if (cell.cell_type === 'code'){\n            for (var j=0; j<cell.output_area.outputs.length; j++) {\n                var data = cell.output_area.outputs[j];\n                if (data.data) {\n                    // IPython >= 3 moved mimebundle to data attribute of output\n                    data = data.data;\n                }\n                if (data['text/html'] == html_output) {\n                    return [cell, data, j];\n                }\n            }\n        }\n    }\n}\n\n// Register the function which deals with the matplotlib target/channel.\n// The kernel may be null if the page has been refreshed.\nif (IPython.notebook.kernel != null) {\n    IPython.notebook.kernel.comm_manager.register_target('matplotlib', mpl.mpl_figure_comm);\n}\n"
     },
     "metadata": {}
    },
    {
     "output_type": "display_data",
     "data": {
      "text/plain": "<IPython.core.display.HTML object>",
      "text/html": "<div id='0c588805-3da7-4e1f-9aae-3a30ef91df9f'></div>"
     },
     "metadata": {}
    },
    {
     "output_type": "stream",
     "name": "stdout",
     "text": [
      "Generating a flatmap cache\n",
      "Unable to revert mtime: /Library/Fonts\n",
      "** (org.inkscape.Inkscape:7980): WARNING **: 17:03:46.137: attribute 'clip-path' given as CSS\n",
      "** (org.inkscape.Inkscape:7980): WARNING **: 17:03:46.137: attribute 'clip-path' given as CSS\n",
      "** (org.inkscape.Inkscape:7980): WARNING **: 17:03:46.137: attribute 'clip-path' given as CSS\n",
      "** (org.inkscape.Inkscape:7980): WARNING **: 17:03:46.137: attribute 'clip-path' given as CSS\n",
      "Fontconfig warning: ignoring UTF-8: not a valid region tag\n",
      "Background RRGGBBAA: ffffff00\n",
      "Area 0:0:2511.29:1024 exported to 2511 x 1024 pixels (96 dpi)\n"
     ]
    },
    {
     "output_type": "execute_result",
     "data": {
      "text/plain": [
       "8"
      ]
     },
     "metadata": {},
     "execution_count": 14
    }
   ],
   "source": [
    "full_fig = plt.figure(constrained_layout=True, figsize=full_figsize)\n",
    "gs = full_fig.add_gridspec(3, 3)\n",
    "flatmap_ax = full_fig.add_subplot(gs[:2, :])\n",
    "timecourse_ax = full_fig.add_subplot(gs[2, :2])\n",
    "prf_ax = full_fig.add_subplot(gs[2, 2])\n",
    "\n",
    "flatmap_ax.set_title('flatmap')\n",
    "timecourse_ax.set_title('timecourse')\n",
    "prf_ax.set_title('prf')\n",
    "\n",
    "###################################################################################################\n",
    "###################################################################################################\n",
    "#######\n",
    "# redraw per-vertex data\n",
    "#######\n",
    "###################################################################################################\n",
    "###################################################################################################\n",
    "\n",
    "def redraw_vertex_plots(vertex, refresh):\n",
    "    if refresh:\n",
    "        timecourse_ax.clear()\n",
    "    timecourse_ax.axhline(0, color='black', lw=0.25)\n",
    "    timecourse_ax.plot(tc_data[vertex])\n",
    "    timecourse_ax.plot(sos, alpha=0.125, lw=3, color='gray')\n",
    "    timecourse_ax.plot(np.roll(sos,5), alpha=0.25, ls=':', lw=3, color='gray')\n",
    "\n",
    "\n",
    "    if prf_pars_df['beta'][vertex] != 0:\n",
    "        # implement plotting of model predictions using the Iso2DGaussianModel class\n",
    "        # at some point\n",
    "        pass\n",
    "\n",
    "    prf = gauss2D_iso_cart(prf_space_x,\n",
    "                           prf_space_y,\n",
    "                           [prf_pars_df['x'][vertex],\n",
    "                            prf_pars_df['y'][vertex]],\n",
    "                           prf_pars_df['size'][vertex])\n",
    "    prf_ax.clear()\n",
    "    prf_ax.imshow(prf, extent=vf_extent+vf_extent, cmap='cubehelix')\n",
    "    prf_ax.axvline(0, color='white', linestyle='dashed', lw=0.5)\n",
    "    prf_ax.axhline(0, color='white', linestyle='dashed', lw=0.5)\n",
    "    prf_ax.set_title(f\"x: {prf_pars_df['x'][vertex]}, y: {prf_pars_df['y'][vertex]}\")\n",
    "\n",
    "def zoom_to_roi(axis, subject, roi, hem, margin=10.0):\n",
    "    roi_verts = cx.get_roi_verts(subject, roi)[roi]\n",
    "    roi_map = cx.Vertex.empty(subject)\n",
    "    roi_map.data[roi_verts] = 1\n",
    "\n",
    "    (lflatpts, lpolys), (rflatpts, rpolys) = cx.db.get_surf(subject, \"flat\",\n",
    "                                                            nudge=True)\n",
    "    sel_pts = dict(left=lflatpts, right=rflatpts)[hem]\n",
    "    roi_pts = sel_pts[np.nonzero(getattr(roi_map, hem))[0], :2]\n",
    "\n",
    "    xmin, ymin = roi_pts.min(0) - margin\n",
    "    xmax, ymax = roi_pts.max(0) + margin\n",
    "    print([xmin, xmax, ymin, ymax])\n",
    "    axis.axis([xmin, xmax, ymin, ymax])\n",
    "\n",
    "    return [xmin, xmax, ymin, ymax]\n",
    "\n",
    "###################################################################################################\n",
    "###################################################################################################\n",
    "#######\n",
    "# actual callback functions\n",
    "#######\n",
    "###################################################################################################\n",
    "###################################################################################################\n",
    "\n",
    "def onclick(event):\n",
    "    if event.inaxes == flatmap_ax:\n",
    "        xmin, xmax = flatmap_ax.get_xbound()\n",
    "        ax_xrange = xmax-xmin\n",
    "        ymin, ymax = flatmap_ax.get_ybound()\n",
    "        ax_yrange = ymax-ymin\n",
    "\n",
    "        rel_x = int(mask.shape[0] * (event.xdata-xmin)/ax_xrange)\n",
    "        rel_y = int(mask.shape[1] * (event.ydata-ymin)/ax_yrange)\n",
    "        clicked_pixel = (rel_x, rel_y)\n",
    "\n",
    "        clicked_vertex = vc[int(\n",
    "            mask_index[clicked_pixel[0], clicked_pixel[1]])]\n",
    "\n",
    "        redraw_vertex_plots(clicked_vertex.indices[0], (event.key == 'shift'))\n",
    "        plt.draw()\n",
    "\n",
    "\n",
    "def onkey(event):\n",
    "    if event.key == '1':  # polar angle\n",
    "        cx.quickshow(polar_v, with_rois=True, with_curvature=True,\n",
    "                     fig=flatmap_ax, with_colorbar=False)\n",
    "        flatmap_ax.set_title('Polar Angle')\n",
    "    elif event.key == '2':  # eccentricity\n",
    "        cx.quickshow(eccen_v, with_rois=True, with_curvature=True,\n",
    "                     fig=flatmap_ax, with_colorbar=False)\n",
    "        flatmap_ax.set_title('Eccentricity')\n",
    "    elif event.key == '3':  # polar angle\n",
    "        cx.quickshow(size_v, with_rois=True, with_curvature=True,\n",
    "                     fig=flatmap_ax, with_colorbar=False)\n",
    "        flatmap_ax.set_title('pRF Size')\n",
    "    elif event.key == '4':  # polar angle\n",
    "        cx.quickshow(x_v, with_rois=True, with_curvature=True,\n",
    "                     fig=flatmap_ax, with_colorbar=False)\n",
    "        flatmap_ax.set_title('pRF X')\n",
    "    elif event.key == '5':  # polar angle\n",
    "        cx.quickshow(y_v, with_rois=True, with_curvature=True,\n",
    "                     fig=flatmap_ax, with_colorbar=False)\n",
    "        flatmap_ax.set_title('pRF Y')        \n",
    "    plt.draw()\n",
    "    \n",
    "###################################################################################################\n",
    "###################################################################################################\n",
    "#######\n",
    "# start\n",
    "#######\n",
    "###################################################################################################\n",
    "###################################################################################################\n",
    "# start with polar angle.\n",
    "cx.quickshow(polar_v, with_rois=True, with_curvature=True,\n",
    "             fig=flatmap_ax, with_colorbar=False)\n",
    "\n",
    "# new_bounds  = zoom_to_roi(axis=flatmap_ax, subject=subject,\n",
    "#             roi='V2', hem='left', margin=10.0)\n",
    "\n",
    "full_fig.canvas.mpl_connect('button_press_event', onclick)\n",
    "full_fig.canvas.mpl_connect('key_press_event', onkey)\n",
    "# plt.show()"
   ]
  },
  {
   "cell_type": "code",
   "execution_count": 6,
   "metadata": {
    "ExecuteTime": {
     "end_time": "2020-09-03T11:53:35.369756Z",
     "start_time": "2020-09-03T11:53:35.360657Z"
    }
   },
   "outputs": [
    {
     "name": "stdout",
     "output_type": "stream",
     "text": [
      "blas_mkl_info:\n",
      "    libraries = ['mkl_rt', 'pthread']\n",
      "    library_dirs = ['/tank/tkn219/software/anaconda3/envs/cf_hcp/lib']\n",
      "    define_macros = [('SCIPY_MKL_H', None), ('HAVE_CBLAS', None)]\n",
      "    include_dirs = ['/tank/tkn219/software/anaconda3/envs/cf_hcp/include']\n",
      "blas_opt_info:\n",
      "    libraries = ['mkl_rt', 'pthread']\n",
      "    library_dirs = ['/tank/tkn219/software/anaconda3/envs/cf_hcp/lib']\n",
      "    define_macros = [('SCIPY_MKL_H', None), ('HAVE_CBLAS', None)]\n",
      "    include_dirs = ['/tank/tkn219/software/anaconda3/envs/cf_hcp/include']\n",
      "lapack_mkl_info:\n",
      "    libraries = ['mkl_rt', 'pthread']\n",
      "    library_dirs = ['/tank/tkn219/software/anaconda3/envs/cf_hcp/lib']\n",
      "    define_macros = [('SCIPY_MKL_H', None), ('HAVE_CBLAS', None)]\n",
      "    include_dirs = ['/tank/tkn219/software/anaconda3/envs/cf_hcp/include']\n",
      "lapack_opt_info:\n",
      "    libraries = ['mkl_rt', 'pthread']\n",
      "    library_dirs = ['/tank/tkn219/software/anaconda3/envs/cf_hcp/lib']\n",
      "    define_macros = [('SCIPY_MKL_H', None), ('HAVE_CBLAS', None)]\n",
      "    include_dirs = ['/tank/tkn219/software/anaconda3/envs/cf_hcp/include']\n"
     ]
    }
   ],
   "source": [
    "np.show_config()"
   ]
  },
  {
   "cell_type": "code",
   "execution_count": null,
   "metadata": {},
   "outputs": [],
   "source": []
  },
  {
   "cell_type": "code",
   "execution_count": 6,
   "metadata": {},
   "outputs": [],
   "source": [
    "workbench_resample_command = \\\n",
    "    \"\"\"wb_command -metric-resample {metric_in} {current_sphere} {new_sphere} ADAP_BARY_AREA {metric_out} -area-metrics {current_area} {new_area}\"\"\""
   ]
  },
  {
   "cell_type": "code",
   "execution_count": 7,
   "metadata": {},
   "outputs": [],
   "source": [
    "  workbench_current_sphere = \"resample_fsaverage/fs_LR-deformed_to-fsaverage.{hemi}.sphere.59k_fs_LR.surf.gii\"\n",
    "  workbench_new_sphere = \"resample_fsaverage/fsaverage_std_sphere.{hemi}.164k_fsavg_{hemi}.surf.gii\"\n",
    "  workbench_current_area = \"resample_fsaverage/fs_LR.{hemi}.midthickness_va_avg.59k_fs_LR.shape.gii\"\n",
    "  workbench_new_area = \"resample_fsaverage/fsaverage.{hemi}.midthickness_va_avg.164k_fsavg_{hemi}.shape.gii\""
   ]
  },
  {
   "cell_type": "code",
   "execution_count": 10,
   "metadata": {},
   "outputs": [
    {
     "output_type": "stream",
     "name": "stdout",
     "text": [
      "wb_command -metric-resample sub-01_ses-01_task-soma_run-median_space-fsaverage_hemi-L_sg_psc.func.gii resample_fsaverage/fsaverage_std_sphere.L.164k_fsavg_L.surf.gii resample_fsaverage/fs_LR-deformed_to-fsaverage.L.sphere.59k_fs_LR.surf.gii ADAP_BARY_AREA sub-01_ses-01_task-soma_run-median_space-fsaverage_hemi-L_sg_psc.59k.dtseries.gii -area-metrics resample_fsaverage/fsaverage.L.midthickness_va_avg.164k_fsavg_L.shape.gii resample_fsaverage/fs_LR.L.midthickness_va_avg.59k_fs_LR.shape.gii\nwb_command -metric-resample sub-01_ses-01_task-soma_run-median_space-fsaverage_hemi-R_sg_psc.func.gii resample_fsaverage/fsaverage_std_sphere.R.164k_fsavg_R.surf.gii resample_fsaverage/fs_LR-deformed_to-fsaverage.R.sphere.59k_fs_LR.surf.gii ADAP_BARY_AREA sub-01_ses-01_task-soma_run-median_space-fsaverage_hemi-R_sg_psc.59k.dtseries.gii -area-metrics resample_fsaverage/fsaverage.R.midthickness_va_avg.164k_fsavg_R.shape.gii resample_fsaverage/fs_LR.R.midthickness_va_avg.59k_fs_LR.shape.gii\n"
     ]
    }
   ],
   "source": [
    "os.chdir(os.path.expanduser('~/Downloads/data_project_soma'))\n",
    "for hemi in ['L', 'R']:\n",
    "    this_cmd = workbench_resample_command.format(\n",
    "        metric_in=f'sub-01_ses-01_task-soma_run-median_space-fsaverage_hemi-{hemi}_sg_psc.func.gii',\n",
    "        metric_out=f'sub-01_ses-01_task-soma_run-median_space-59k-{hemi}_sg_psc.dtseries.gii',\n",
    "        current_sphere=workbench_new_sphere.format(hemi=hemi),\n",
    "        new_sphere=workbench_current_sphere.format(hemi=hemi),\n",
    "        current_area=workbench_new_area.format(hemi=hemi),\n",
    "        new_area=workbench_current_area.format(hemi=hemi))\n",
    "    print(this_cmd)\n",
    "    # plist = shlex.split(this_cmd)\n",
    "    # subprocess.Popen(plist)"
   ]
  },
  {
   "cell_type": "code",
   "execution_count": null,
   "metadata": {},
   "outputs": [],
   "source": []
  }
 ],
 "metadata": {
  "kernelspec": {
   "name": "python3",
   "display_name": "Python 3",
   "language": "python"
  },
  "language_info": {
   "codemirror_mode": {
    "name": "ipython",
    "version": 3
   },
   "file_extension": ".py",
   "mimetype": "text/x-python",
   "name": "python",
   "nbconvert_exporter": "python",
   "pygments_lexer": "ipython3",
   "version": "3.7.7"
  },
  "toc": {
   "base_numbering": 1,
   "nav_menu": {},
   "number_sections": true,
   "sideBar": true,
   "skip_h1_title": false,
   "title_cell": "Table of Contents",
   "title_sidebar": "Contents",
   "toc_cell": true,
   "toc_position": {},
   "toc_section_display": true,
   "toc_window_display": false
  }
 },
 "nbformat": 4,
 "nbformat_minor": 4
}